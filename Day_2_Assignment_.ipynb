{
  "nbformat": 4,
  "nbformat_minor": 0,
  "metadata": {
    "colab": {
      "name": "Day 2 Assignment .ipynb",
      "provenance": [],
      "collapsed_sections": []
    },
    "kernelspec": {
      "name": "python3",
      "display_name": "Python 3"
    },
    "language_info": {
      "name": "python"
    }
  },
  "cells": [
    {
      "cell_type": "markdown",
      "metadata": {
        "id": "Y0-h3pK9UfSi"
      },
      "source": [
        "**DAY 2 ASSIGNMENT**"
      ]
    },
    {
      "cell_type": "markdown",
      "metadata": {
        "id": "AfdQSGGbU27I"
      },
      "source": [
        "**Question 1**:\n",
        " Create a dataframe with 10 rows on random numbers and 4 columns, (columns labelled as a,b,c,d) and plot a bar chart.\n"
      ]
    },
    {
      "cell_type": "code",
      "metadata": {
        "id": "yvD6XLK0VBkZ"
      },
      "source": [
        "import matplotlib.pyplot as plt\n",
        "import pandas as pd\n",
        "import numpy as np\n",
        "import seaborn as sns\n",
        "%matplotlib inline\n",
        "from numpy.random import randn, randint, sample, uniform"
      ],
      "execution_count": 1,
      "outputs": []
    },
    {
      "cell_type": "code",
      "metadata": {
        "colab": {
          "base_uri": "https://localhost:8080/",
          "height": 359
        },
        "id": "UhBIpzlqVNKK",
        "outputId": "0dabe253-89cb-493a-99fd-8e7ffc99632f"
      },
      "source": [
        "df=pd.DataFrame(randn(10,4),columns=['a','b','c','d'])\n",
        "df"
      ],
      "execution_count": 2,
      "outputs": [
        {
          "output_type": "execute_result",
          "data": {
            "text/html": [
              "<div>\n",
              "<style scoped>\n",
              "    .dataframe tbody tr th:only-of-type {\n",
              "        vertical-align: middle;\n",
              "    }\n",
              "\n",
              "    .dataframe tbody tr th {\n",
              "        vertical-align: top;\n",
              "    }\n",
              "\n",
              "    .dataframe thead th {\n",
              "        text-align: right;\n",
              "    }\n",
              "</style>\n",
              "<table border=\"1\" class=\"dataframe\">\n",
              "  <thead>\n",
              "    <tr style=\"text-align: right;\">\n",
              "      <th></th>\n",
              "      <th>a</th>\n",
              "      <th>b</th>\n",
              "      <th>c</th>\n",
              "      <th>d</th>\n",
              "    </tr>\n",
              "  </thead>\n",
              "  <tbody>\n",
              "    <tr>\n",
              "      <th>0</th>\n",
              "      <td>1.091893</td>\n",
              "      <td>0.878391</td>\n",
              "      <td>-0.236518</td>\n",
              "      <td>-1.089321</td>\n",
              "    </tr>\n",
              "    <tr>\n",
              "      <th>1</th>\n",
              "      <td>1.410957</td>\n",
              "      <td>-0.535578</td>\n",
              "      <td>0.384988</td>\n",
              "      <td>0.816672</td>\n",
              "    </tr>\n",
              "    <tr>\n",
              "      <th>2</th>\n",
              "      <td>1.844805</td>\n",
              "      <td>-0.417212</td>\n",
              "      <td>-0.579583</td>\n",
              "      <td>1.452349</td>\n",
              "    </tr>\n",
              "    <tr>\n",
              "      <th>3</th>\n",
              "      <td>-0.671607</td>\n",
              "      <td>0.986984</td>\n",
              "      <td>-2.284495</td>\n",
              "      <td>0.533373</td>\n",
              "    </tr>\n",
              "    <tr>\n",
              "      <th>4</th>\n",
              "      <td>0.231088</td>\n",
              "      <td>-0.081114</td>\n",
              "      <td>-0.882039</td>\n",
              "      <td>-1.186857</td>\n",
              "    </tr>\n",
              "    <tr>\n",
              "      <th>5</th>\n",
              "      <td>0.508551</td>\n",
              "      <td>-1.677580</td>\n",
              "      <td>-1.289478</td>\n",
              "      <td>-0.178874</td>\n",
              "    </tr>\n",
              "    <tr>\n",
              "      <th>6</th>\n",
              "      <td>0.536278</td>\n",
              "      <td>3.716714</td>\n",
              "      <td>-1.438146</td>\n",
              "      <td>0.690134</td>\n",
              "    </tr>\n",
              "    <tr>\n",
              "      <th>7</th>\n",
              "      <td>0.608743</td>\n",
              "      <td>1.317865</td>\n",
              "      <td>-0.621259</td>\n",
              "      <td>-2.061005</td>\n",
              "    </tr>\n",
              "    <tr>\n",
              "      <th>8</th>\n",
              "      <td>0.497783</td>\n",
              "      <td>-0.156713</td>\n",
              "      <td>0.138479</td>\n",
              "      <td>1.312130</td>\n",
              "    </tr>\n",
              "    <tr>\n",
              "      <th>9</th>\n",
              "      <td>0.625233</td>\n",
              "      <td>0.678466</td>\n",
              "      <td>-0.863714</td>\n",
              "      <td>1.170546</td>\n",
              "    </tr>\n",
              "  </tbody>\n",
              "</table>\n",
              "</div>"
            ],
            "text/plain": [
              "          a         b         c         d\n",
              "0  1.091893  0.878391 -0.236518 -1.089321\n",
              "1  1.410957 -0.535578  0.384988  0.816672\n",
              "2  1.844805 -0.417212 -0.579583  1.452349\n",
              "3 -0.671607  0.986984 -2.284495  0.533373\n",
              "4  0.231088 -0.081114 -0.882039 -1.186857\n",
              "5  0.508551 -1.677580 -1.289478 -0.178874\n",
              "6  0.536278  3.716714 -1.438146  0.690134\n",
              "7  0.608743  1.317865 -0.621259 -2.061005\n",
              "8  0.497783 -0.156713  0.138479  1.312130\n",
              "9  0.625233  0.678466 -0.863714  1.170546"
            ]
          },
          "metadata": {
            "tags": []
          },
          "execution_count": 2
        }
      ]
    },
    {
      "cell_type": "code",
      "metadata": {
        "colab": {
          "base_uri": "https://localhost:8080/",
          "height": 604
        },
        "id": "8GojUJpfVUzc",
        "outputId": "2f6d0030-f3d5-49d6-8291-bf79ddbaa7ed"
      },
      "source": [
        "df.plot(kind='bar',title='Bar Chart',figsize=(10,10),legend = True)\n",
        "plt.show()"
      ],
      "execution_count": 5,
      "outputs": [
        {
          "output_type": "display_data",
          "data": {
            "image/png": "[encoded data removed]",
            "text/plain": [
              "<Figure size 720x720 with 1 Axes>"
            ]
          },
          "metadata": {
            "tags": [],
            "needs_background": "light"
          }
        }
      ]
    }
  ]
}